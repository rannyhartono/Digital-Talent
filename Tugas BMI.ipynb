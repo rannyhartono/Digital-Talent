{
 "cells": [
  {
   "cell_type": "code",
   "execution_count": 11,
   "metadata": {},
   "outputs": [
    {
     "name": "stdout",
     "output_type": "stream",
     "text": [
      "Your BMI is 22\n",
      "\n",
      "Congratulations!\n",
      "It's a normal BMI and you have a healthy weight\n",
      "\n",
      "Calculation is complete\n"
     ]
    }
   ],
   "source": [
    "berat_badan = 58 \n",
    "tinggi_badan = 159\n",
    "tinggi_badan_konversi = tinggi_badan/100 \n",
    "\n",
    "BMI = berat_badan/(tinggi_badan_konversi**2)\n",
    "\n",
    "print (\"Your BMI is\", int (BMI))\n",
    "print ()\n",
    "if BMI <=15: \n",
    "    print (\"You are: Very Severely Underweight\")\n",
    "    print (\"Please consider to meet a nutritionist\")\n",
    "elif 16 <=BMI <= 18.49: \n",
    "    print (\"You are: Underweight\")\n",
    "    print (\"Please consider to meet a nutritionist\")\n",
    "elif 18.5 <=BMI <= 24.9:\n",
    "    print (\"Congratulations!\")\n",
    "    print (\"It's a normal BMI and you have a healthy weight\")\n",
    "elif 25 <=BMI <= 29.9:\n",
    "    print (\"You are: Overweight\")\n",
    "    print (\"Please consider to meet a nutritionist\")  \n",
    "elif 25 <=BMI <= 29.9:\n",
    "    print (\"You are: Overweight\")\n",
    "    print (\"Please consider to meet a nutritionist\")\n",
    "elif 30 <=BMI <= 34.9:\n",
    "    print (\"You are: Moderately Obese\")\n",
    "    print (\"Please consider to meet a nutritionist\")\n",
    "elif 35 <=BMI <= 39.9:\n",
    "    print (\"You are: Severely Obese\")\n",
    "    print (\"Please consider to meet a nutritionist\")\n",
    "elif BMI >= 40:\n",
    "    print (\"You are: Very Severely Obese\")\n",
    "    print (\"Please consider to meet a nutritionist\")\n",
    "else:\n",
    "    print (\"Input Error\")\n",
    "print ()\n",
    "print (\"Calculation is complete\")"
   ]
  },
  {
   "cell_type": "code",
   "execution_count": null,
   "metadata": {},
   "outputs": [],
   "source": []
  }
 ],
 "metadata": {
  "kernelspec": {
   "display_name": "Python 3",
   "language": "python",
   "name": "python3"
  },
  "language_info": {
   "codemirror_mode": {
    "name": "ipython",
    "version": 3
   },
   "file_extension": ".py",
   "mimetype": "text/x-python",
   "name": "python",
   "nbconvert_exporter": "python",
   "pygments_lexer": "ipython3",
   "version": "3.7.0"
  }
 },
 "nbformat": 4,
 "nbformat_minor": 2
}
